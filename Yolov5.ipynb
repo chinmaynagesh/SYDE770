{
  "cells": [
    {
      "cell_type": "code",
      "execution_count": 1,
      "metadata": {
        "id": "lsMdJkSq7tWA"
      },
      "outputs": [],
      "source": [
        "from ultralytics import YOLO\n",
        "import cv2\n",
        "import os\n",
        "import glob\n",
        "import os\n",
        "import glob\n",
        "import random\n",
        "import shutil\n",
        "import numpy as np\n",
        "import pandas as pd\n",
        "from sklearn.model_selection import StratifiedKFold\n",
        "from ultralytics import YOLO\n",
        "import torch\n",
        "from pathlib import Path"
      ]
    },
    {
      "cell_type": "code",
      "execution_count": 2,
      "metadata": {
        "id": "JTEhhoPOIK0A"
      },
      "outputs": [
        {
          "name": "stdout",
          "output_type": "stream",
          "text": [
            "Total Images: 1669\n",
            "Class Distribution: class\n",
            "1    1026\n",
            "0     643\n",
            "Name: count, dtype: int64\n"
          ]
        }
      ],
      "source": [
        "# Paths\n",
        "BASE_DIR = \"Normal_cups\"  # Change to your dataset path\n",
        "IMAGE_DIR = os.path.join(BASE_DIR, \"images\")\n",
        "LABEL_DIR = os.path.join(BASE_DIR, \"data\")\n",
        "OUTPUT_DIR = os.path.join(BASE_DIR, \"yolo_dataset\")\n",
        "MODEL_PATH = \"yolov5\"  # Change if using another YOLOv5 model\n",
        "\n",
        "# Create output directories\n",
        "os.makedirs(os.path.join(OUTPUT_DIR, \"train\", \"images\"), exist_ok=True)\n",
        "os.makedirs(os.path.join(OUTPUT_DIR, \"train\", \"labels\"), exist_ok=True)\n",
        "os.makedirs(os.path.join(OUTPUT_DIR, \"val\", \"images\"), exist_ok=True)\n",
        "os.makedirs(os.path.join(OUTPUT_DIR, \"val\", \"labels\"), exist_ok=True)\n",
        "\n",
        "# Load images & labels\n",
        "image_paths = glob.glob(os.path.join(IMAGE_DIR, \"*\"))\n",
        "image_list = []\n",
        "labels = []\n",
        "\n",
        "for img_path in image_paths:\n",
        "    base_name = os.path.splitext(os.path.basename(img_path))[0]\n",
        "    label_path = os.path.join(LABEL_DIR, base_name + \".txt\")\n",
        "\n",
        "    if os.path.exists(label_path) and os.path.getsize(label_path) > 0:\n",
        "        with open(label_path, \"r\") as file:\n",
        "            label_data = file.readlines()\n",
        "            class_ids = [int(line.split()[0]) for line in label_data]\n",
        "            label_class = 1 if 1 in class_ids else 0  # If a Tim Hortons cup is present, label as 1\n",
        "    else:\n",
        "        label_class = 0  # No annotation means it's a normal cup (background class)\n",
        "\n",
        "    image_list.append((img_path, label_path))\n",
        "    labels.append(label_class)\n",
        "\n",
        "# Convert to DataFrame for processing\n",
        "df = pd.DataFrame(image_list, columns=[\"image\", \"label\"])\n",
        "df[\"class\"] = labels\n",
        "\n",
        "# Print dataset summary\n",
        "print(f\"Total Images: {len(df)}\")\n",
        "print(f\"Class Distribution: {df['class'].value_counts()}\")\n"
      ]
    },
    {
      "cell_type": "code",
      "execution_count": 3,
      "metadata": {},
      "outputs": [
        {
          "name": "stdout",
          "output_type": "stream",
          "text": [
            "Training completed! Model saved in YOLO output folder.\n"
          ]
        }
      ],
      "source": [
        "import shutil\n",
        "import os\n",
        "import pandas as pd\n",
        "from sklearn.model_selection import StratifiedKFold\n",
        "\n",
        "# Create necessary directories and copy data (train/validation)\n",
        "OUTPUT_DIR = \"C:/Users/Chinmay Nagesh/Desktop/Yolo/SYDE770/Normal_cups/yolo_dataset\"\n",
        "\n",
        "# Stratified K-Fold Cross Validation (Keep Class Balance)\n",
        "k_folds = 5\n",
        "skf = StratifiedKFold(n_splits=k_folds, shuffle=True, random_state=42)\n",
        "\n",
        "# Select one fold as validation (80-20 Split)\n",
        "for train_idx, val_idx in skf.split(df[\"image\"], df[\"class\"]):\n",
        "    train_data = df.iloc[train_idx]\n",
        "    val_data = df.iloc[val_idx]\n",
        "    break  # We only need the first split\n",
        "\n",
        "# Function to copy files\n",
        "def copy_files(data, split):\n",
        "    for _, row in data.iterrows():\n",
        "        shutil.copy(row[\"image\"], os.path.join(OUTPUT_DIR, split, \"images\", os.path.basename(row[\"image\"])))\n",
        "\n",
        "        if os.path.exists(row[\"label\"]) and os.path.getsize(row[\"label\"]) > 0:\n",
        "            shutil.copy(row[\"label\"], os.path.join(OUTPUT_DIR, split, \"labels\", os.path.basename(row[\"label\"])))\n",
        "        else:\n",
        "            # Create an empty label file if no annotation exists\n",
        "            open(os.path.join(OUTPUT_DIR, split, \"labels\", os.path.basename(row[\"label\"])), 'w').close()\n",
        "\n",
        "copy_files(train_data, \"train\")\n",
        "copy_files(val_data, \"val\")\n",
        "\n",
        "# Create YOLO dataset.yaml file\n",
        "yaml_content = f\"\"\"\n",
        "path: C:/Users/Chinmay Nagesh/Desktop/Yolo/SYDE770/Normal_cups/yolo_dataset\n",
        "train: train/images\n",
        "val: val/images\n",
        "nc: 2\n",
        "names: [\"Normal Cup\", \"Tim Hortons Cup\"]\n",
        "\"\"\"\n",
        "\n",
        "yaml_path = \"C:/Users/Chinmay Nagesh/Desktop/Yolo/SYDE770/Normal_cups/yolo_dataset/dataset.yaml\"\n",
        "with open(yaml_path, \"w\") as f:\n",
        "    f.write(yaml_content)\n",
        "\n",
        "# Train YOLOv5 (No MLflow integration in this cell)\n",
        "command = r'python yolov5/train.py --imgsz 320 --batch-size 32 --epochs 5 --data \"C:/Users/Chinmay Nagesh/Desktop/Yolo/SYDE770/Normal_cups/yolo_dataset/dataset.yaml\" --weights yolov5s.pt --device cpu --freeze 10'\n",
        "os.system(command)\n",
        "\n",
        "print(\"Training completed! Model saved in YOLO output folder.\")\n"
      ]
    },
    {
      "cell_type": "markdown",
      "metadata": {},
      "source": [
        "Keeping results ready for MLflow"
      ]
    },
    {
      "cell_type": "code",
      "execution_count": 4,
      "metadata": {},
      "outputs": [],
      "source": [
        "import pandas as pd\n",
        "import os\n",
        "\n",
        "# Path to results.csv in latest exp folder\n",
        "latest_exp= 'yolov5/runs/train/exp2'\n",
        "results_path = os.path.join(latest_exp, \"results.csv\")\n",
        "\n",
        "# Check if results.csv exists\n",
        "if os.path.exists(results_path):\n",
        "    df = pd.read_csv(results_path)\n",
        "    # print(\"Available columns in results.csv:\", df.columns.tolist())  # Print column names\n",
        "    df.columns = df.columns.str.strip()\n",
        "    # print(df.iloc[-1])  # See exact column names\n",
        "\n",
        "train_box_loss = df.iloc[-1][\"train/box_loss\"]\n",
        "train_obj_loss=df.iloc[-1][\"train/obj_loss\"]\n",
        "train_cls_loss=df.iloc[-1][\"train/cls_loss\"]\n",
        "val_box_loss=df.iloc[-1][\"val/box_loss\"]\n",
        "mAP_50=df.iloc[-1][\"metrics/mAP_0.5\"]\n",
        "mAP_50_95=df.iloc[-1][\"metrics/mAP_0.5:0.95\"]\n",
        "precision=df.iloc[-1][\"metrics/precision\"]\n",
        "recall=df.iloc[-1][\"metrics/recall\"]"
      ]
    },
    {
      "cell_type": "markdown",
      "metadata": {},
      "source": [
        "ML Flow section"
      ]
    },
    {
      "cell_type": "code",
      "execution_count": 6,
      "metadata": {},
      "outputs": [
        {
          "data": {
            "text/html": [
              "<pre style=\"white-space:pre;overflow-x:auto;line-height:normal;font-family:Menlo,'DejaVu Sans Mono',consolas,'Courier New',monospace\">Initialized MLflow to track repo <span style=\"color: #008000; text-decoration-color: #008000\">\"chinmay-nagesh/SYDE770-dagshub\"</span>\n",
              "</pre>\n"
            ],
            "text/plain": [
              "Initialized MLflow to track repo \u001b[32m\"chinmay-nagesh/SYDE770-dagshub\"\u001b[0m\n"
            ]
          },
          "metadata": {},
          "output_type": "display_data"
        },
        {
          "data": {
            "text/html": [
              "<pre style=\"white-space:pre;overflow-x:auto;line-height:normal;font-family:Menlo,'DejaVu Sans Mono',consolas,'Courier New',monospace\">Repository chinmay-nagesh/SYDE770-dagshub initialized!\n",
              "</pre>\n"
            ],
            "text/plain": [
              "Repository chinmay-nagesh/SYDE770-dagshub initialized!\n"
            ]
          },
          "metadata": {},
          "output_type": "display_data"
        },
        {
          "name": "stderr",
          "output_type": "stream",
          "text": [
            "Registered model 'yolov5' already exists. Creating a new version of this model...\n",
            "2025/03/11 23:41:52 INFO mlflow.store.model_registry.abstract_store: Waiting up to 300 seconds for model version to finish creation. Model name: yolov5, version 2\n",
            "Created version '2' of model 'yolov5'.\n"
          ]
        },
        {
          "name": "stdout",
          "output_type": "stream",
          "text": [
            "New version of yolov5 registered in MLflow.\n",
            "Metrics and model logged to MLflow.\n",
            "🏃 View run fun-pug-728 at: https://dagshub.com/chinmay-nagesh/SYDE770-dagshub.mlflow/#/experiments/1/runs/ea0f2dac654a417ca27550e261535965\n",
            "🧪 View experiment at: https://dagshub.com/chinmay-nagesh/SYDE770-dagshub.mlflow/#/experiments/1\n"
          ]
        }
      ],
      "source": [
        "import mlflow\n",
        "import dagshub\n",
        "import pandas as pd\n",
        "import shutil\n",
        "import os\n",
        "\n",
        "# Initialize MLflow tracking\n",
        "dagshub.init(repo_owner='chinmay-nagesh',\n",
        "             repo_name='SYDE770-dagshub',\n",
        "             mlflow=True)\n",
        "\n",
        "mlflow.set_tracking_uri(\"https://dagshub.com/chinmay-nagesh/SYDE770-dagshub.mlflow\")\n",
        "mlflow.set_experiment(\"YOLOv5 Training\")\n",
        "\n",
        "# Start MLflow run to track hyperparameters and metrics\n",
        "with mlflow.start_run():\n",
        "    # Log Hyperparameters\n",
        "    mlflow.log_param(\"img_size\", 320)\n",
        "    mlflow.log_param(\"batch_size\", 32)\n",
        "    mlflow.log_param(\"epochs\", 5)\n",
        "    mlflow.log_param(\"weights\", \"yolov5s.pt\")\n",
        "    mlflow.log_param(\"device\", \"cpu\")\n",
        "    mlflow.log_param(\"freeze\", 10)\n",
        "    \n",
        "\n",
        "    # Log Metrics\n",
        "    mlflow.log_metric(\"train_box_loss\", train_box_loss)\n",
        "    mlflow.log_metric(\"train_obj_loss\", train_obj_loss)\n",
        "    mlflow.log_metric(\"train_cls_loss\", train_cls_loss)\n",
        "    mlflow.log_metric(\"val_box_loss\", val_box_loss)\n",
        "    mlflow.log_metric(\"mAP_50\", mAP_50)\n",
        "    mlflow.log_metric(\"mAP_50_95\", mAP_50_95)\n",
        "    mlflow.log_metric(\"precision\", precision)\n",
        "    mlflow.log_metric(\"recall\", recall)\n",
        "\n",
        "    # Log Model\n",
        "    best_model_path = \"yolov5/runs/train/exp2/weights/best.pt\"\n",
        "    model_save_path = \"yolov5_model\"\n",
        "\n",
        "    if os.path.exists(best_model_path):\n",
        "        os.makedirs(model_save_path, exist_ok=True)\n",
        "        shutil.copy(best_model_path, os.path.join(model_save_path, \"best.pt\"))\n",
        "\n",
        "        # Log Model as an artifact in MLflow\n",
        "        mlflow.log_artifact(os.path.join(model_save_path, \"best.pt\"), artifact_path=\"models/yolov5\")\n",
        "\n",
        "        # Check if model \"yolov5\" exists in MLflow model registry\n",
        "        client = mlflow.tracking.MlflowClient()\n",
        "        model_name = \"yolov5\"\n",
        "\n",
        "        try:\n",
        "            # Try registering a new version of the existing model\n",
        "            mlflow.register_model(f\"runs:/{mlflow.active_run().info.run_id}/models/yolov5/best.pt\", model_name)\n",
        "            print(f\"New version of {model_name} registered in MLflow.\")\n",
        "        except Exception:\n",
        "            # If model does not exist, create a new registered model\n",
        "            mlflow.create_registered_model(model_name)\n",
        "            mlflow.register_model(f\"runs:/{mlflow.active_run().info.run_id}/models/yolov5/best.pt\", model_name)\n",
        "            print(f\"Model {model_name} created and registered in MLflow.\")\n",
        "\n",
        "    print(\"Metrics and model logged to MLflow.\")\n"
      ]
    },
    {
      "cell_type": "code",
      "execution_count": null,
      "metadata": {},
      "outputs": [],
      "source": []
    }
  ],
  "metadata": {
    "colab": {
      "provenance": []
    },
    "kernelspec": {
      "display_name": "Python 3",
      "name": "python3"
    },
    "language_info": {
      "codemirror_mode": {
        "name": "ipython",
        "version": 3
      },
      "file_extension": ".py",
      "mimetype": "text/x-python",
      "name": "python",
      "nbconvert_exporter": "python",
      "pygments_lexer": "ipython3",
      "version": "3.11.9"
    }
  },
  "nbformat": 4,
  "nbformat_minor": 0
}
