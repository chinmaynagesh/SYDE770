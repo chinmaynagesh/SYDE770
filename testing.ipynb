{
 "cells": [
  {
   "cell_type": "code",
   "execution_count": 5,
   "metadata": {},
   "outputs": [
    {
     "name": "stderr",
     "output_type": "stream",
     "text": [
      "c:\\Users\\Chinmay Nagesh\\AppData\\Local\\Programs\\Python\\Python311\\Lib\\site-packages\\tqdm\\auto.py:21: TqdmWarning: IProgress not found. Please update jupyter and ipywidgets. See https://ipywidgets.readthedocs.io/en/stable/user_install.html\n",
      "  from .autonotebook import tqdm as notebook_tqdm\n",
      "\u001b[34m\u001b[1mwandb\u001b[0m: Using wandb-core as the SDK backend.  Please refer to https://wandb.me/wandb-core for more information.\n",
      "\u001b[34m\u001b[1mwandb\u001b[0m: Logging into wandb.ai. (Learn how to deploy a W&B server locally: https://wandb.me/wandb-server)\n",
      "\u001b[34m\u001b[1mwandb\u001b[0m: You can find your API key in your browser here: https://wandb.ai/authorize\n",
      "\u001b[34m\u001b[1mwandb\u001b[0m: Paste an API key from your profile and hit enter:\u001b[34m\u001b[1mwandb\u001b[0m: \u001b[33mWARNING\u001b[0m If you're specifying your api key in code, ensure this code is not shared publicly.\n",
      "\u001b[34m\u001b[1mwandb\u001b[0m: \u001b[33mWARNING\u001b[0m Consider setting the WANDB_API_KEY environment variable, or running `wandb login` from the command line.\n",
      "\u001b[34m\u001b[1mwandb\u001b[0m: No netrc file found, creating one.\n",
      "\u001b[34m\u001b[1mwandb\u001b[0m: Appending key for api.wandb.ai to your netrc file: C:\\Users\\Chinmay Nagesh\\_netrc\n",
      "\u001b[34m\u001b[1mwandb\u001b[0m: Currently logged in as: \u001b[33mchinmay-nagesh\u001b[0m (\u001b[33mchinmay_nagesh\u001b[0m) to \u001b[32mhttps://api.wandb.ai\u001b[0m. Use \u001b[1m`wandb login --relogin`\u001b[0m to force relogin\n",
      "[I 2025-03-19 21:29:14,556] A new study created in memory with name: no-name-d7eb5651-efe6-4b1f-b7b4-dad5251160e4\n",
      "c:\\Users\\Chinmay Nagesh\\AppData\\Local\\Programs\\Python\\Python311\\Lib\\site-packages\\optuna\\distributions.py:699: UserWarning: The distribution is specified by [500, 800] and step=32, but the range is not divisible by `step`. It will be replaced by [500, 788].\n",
      "  warnings.warn(\n"
     ]
    },
    {
     "name": "stdout",
     "output_type": "stream",
     "text": [
      "Using device: cpu\n"
     ]
    },
    {
     "name": "stderr",
     "output_type": "stream",
     "text": [
      "[W 2025-03-19 21:29:14,945] Trial 0 failed with parameters: {'epochs': 39, 'batch_size': 64, 'imgsz': 628, 'lr0': 1.5006113956228919e-05, 'momentum': 0.9306822226345832, 'weight_decay': 0.0003497064392954925, 'freeze_layers': 13} because of the following error: The value None could not be cast to float..\n",
      "[W 2025-03-19 21:29:14,946] Trial 0 failed with value None.\n",
      "[W 2025-03-19 21:29:15,149] Trial 1 failed with parameters: {'epochs': 23, 'batch_size': 96, 'imgsz': 532, 'lr0': 1.332092511189097e-05, 'momentum': 0.899595643449277, 'weight_decay': 0.0004929946402945825, 'freeze_layers': 11} because of the following error: The value None could not be cast to float..\n"
     ]
    },
    {
     "name": "stdout",
     "output_type": "stream",
     "text": [
      "⚠ MLflow API Error: API request to endpoint /api/2.0/mlflow/runs/create failed with error code 403 != 200. Response body: ''\n",
      "Using device: cpu\n",
      "⚠ MLflow API Error: API request to endpoint /api/2.0/mlflow/runs/create failed with error code 403 != 200. Response body: ''\n"
     ]
    },
    {
     "name": "stderr",
     "output_type": "stream",
     "text": [
      "[W 2025-03-19 21:29:15,150] Trial 1 failed with value None.\n",
      "[W 2025-03-19 21:29:15,359] Trial 2 failed with parameters: {'epochs': 16, 'batch_size': 32, 'imgsz': 692, 'lr0': 6.854228645789149e-05, 'momentum': 0.9154366259765446, 'weight_decay': 0.00015415586804750543, 'freeze_layers': 16} because of the following error: The value None could not be cast to float..\n"
     ]
    },
    {
     "name": "stdout",
     "output_type": "stream",
     "text": [
      "Using device: cpu\n",
      "⚠ MLflow API Error: API request to endpoint /api/2.0/mlflow/runs/create failed with error code 403 != 200. Response body: ''\n"
     ]
    },
    {
     "name": "stderr",
     "output_type": "stream",
     "text": [
      "[W 2025-03-19 21:29:15,360] Trial 2 failed with value None.\n",
      "[W 2025-03-19 21:29:15,557] Trial 3 failed with parameters: {'epochs': 32, 'batch_size': 128, 'imgsz': 532, 'lr0': 2.5246617959901625e-05, 'momentum': 0.9027941434823414, 'weight_decay': 0.00012440181549841901, 'freeze_layers': 12} because of the following error: The value None could not be cast to float..\n"
     ]
    },
    {
     "name": "stdout",
     "output_type": "stream",
     "text": [
      "Using device: cpu\n",
      "⚠ MLflow API Error: API request to endpoint /api/2.0/mlflow/runs/create failed with error code 403 != 200. Response body: ''\n"
     ]
    },
    {
     "name": "stderr",
     "output_type": "stream",
     "text": [
      "[W 2025-03-19 21:29:15,558] Trial 3 failed with value None.\n",
      "[W 2025-03-19 21:29:15,760] Trial 4 failed with parameters: {'epochs': 33, 'batch_size': 96, 'imgsz': 596, 'lr0': 8.596959035258498e-05, 'momentum': 0.86357221674925, 'weight_decay': 4.823631471889016e-05, 'freeze_layers': 11} because of the following error: The value None could not be cast to float..\n"
     ]
    },
    {
     "name": "stdout",
     "output_type": "stream",
     "text": [
      "Using device: cpu\n",
      "⚠ MLflow API Error: API request to endpoint /api/2.0/mlflow/runs/create failed with error code 403 != 200. Response body: ''\n"
     ]
    },
    {
     "name": "stderr",
     "output_type": "stream",
     "text": [
      "[W 2025-03-19 21:29:15,762] Trial 4 failed with value None.\n"
     ]
    },
    {
     "name": "stdout",
     "output_type": "stream",
     "text": [
      "Using device: cpu\n"
     ]
    },
    {
     "name": "stderr",
     "output_type": "stream",
     "text": [
      "[W 2025-03-19 21:29:16,069] Trial 5 failed with parameters: {'epochs': 28, 'batch_size': 32, 'imgsz': 596, 'lr0': 0.0004312288451045686, 'momentum': 0.8507935938495053, 'weight_decay': 4.6476711219333786e-05, 'freeze_layers': 20} because of the following error: The value None could not be cast to float..\n",
      "[W 2025-03-19 21:29:16,069] Trial 5 failed with value None.\n",
      "[W 2025-03-19 21:29:16,272] Trial 6 failed with parameters: {'epochs': 27, 'batch_size': 96, 'imgsz': 500, 'lr0': 0.000435842978390437, 'momentum': 0.8989379614279502, 'weight_decay': 3.5195477650071904e-05, 'freeze_layers': 10} because of the following error: The value None could not be cast to float..\n"
     ]
    },
    {
     "name": "stdout",
     "output_type": "stream",
     "text": [
      "⚠ MLflow API Error: API request to endpoint /api/2.0/mlflow/runs/create failed with error code 403 != 200. Response body: ''\n",
      "Using device: cpu\n",
      "⚠ MLflow API Error: API request to endpoint /api/2.0/mlflow/runs/create failed with error code 403 != 200. Response body: ''\n"
     ]
    },
    {
     "name": "stderr",
     "output_type": "stream",
     "text": [
      "[W 2025-03-19 21:29:16,274] Trial 6 failed with value None.\n",
      "[W 2025-03-19 21:29:16,480] Trial 7 failed with parameters: {'epochs': 30, 'batch_size': 64, 'imgsz': 532, 'lr0': 3.5326061725416506e-05, 'momentum': 0.9254446118142061, 'weight_decay': 0.00014204142892949902, 'freeze_layers': 17} because of the following error: The value None could not be cast to float..\n"
     ]
    },
    {
     "name": "stdout",
     "output_type": "stream",
     "text": [
      "Using device: cpu\n",
      "⚠ MLflow API Error: API request to endpoint /api/2.0/mlflow/runs/create failed with error code 403 != 200. Response body: ''\n"
     ]
    },
    {
     "name": "stderr",
     "output_type": "stream",
     "text": [
      "[W 2025-03-19 21:29:16,483] Trial 7 failed with value None.\n"
     ]
    },
    {
     "name": "stdout",
     "output_type": "stream",
     "text": [
      "Using device: cpu\n"
     ]
    },
    {
     "name": "stderr",
     "output_type": "stream",
     "text": [
      "[W 2025-03-19 21:29:16,683] Trial 8 failed with parameters: {'epochs': 10, 'batch_size': 128, 'imgsz': 564, 'lr0': 0.000175215985918468, 'momentum': 0.9161389777856013, 'weight_decay': 1.4041980029552753e-05, 'freeze_layers': 13} because of the following error: The value None could not be cast to float..\n",
      "[W 2025-03-19 21:29:16,684] Trial 8 failed with value None.\n",
      "[W 2025-03-19 21:29:16,865] Trial 9 failed with parameters: {'epochs': 10, 'batch_size': 128, 'imgsz': 532, 'lr0': 6.902036692626329e-05, 'momentum': 0.9019101447324677, 'weight_decay': 1.06510523807279e-05, 'freeze_layers': 17} because of the following error: The value None could not be cast to float..\n"
     ]
    },
    {
     "name": "stdout",
     "output_type": "stream",
     "text": [
      "⚠ MLflow API Error: API request to endpoint /api/2.0/mlflow/runs/create failed with error code 403 != 200. Response body: ''\n",
      "Using device: cpu\n",
      "⚠ MLflow API Error: API request to endpoint /api/2.0/mlflow/runs/create failed with error code 403 != 200. Response body: ''\n"
     ]
    },
    {
     "name": "stderr",
     "output_type": "stream",
     "text": [
      "[W 2025-03-19 21:29:16,867] Trial 9 failed with value None.\n"
     ]
    },
    {
     "ename": "ValueError",
     "evalue": "No trials are completed yet.",
     "output_type": "error",
     "traceback": [
      "\u001b[1;31m---------------------------------------------------------------------------\u001b[0m",
      "\u001b[1;31mValueError\u001b[0m                                Traceback (most recent call last)",
      "Cell \u001b[1;32mIn[5], line 152\u001b[0m\n\u001b[0;32m    149\u001b[0m study\u001b[38;5;241m.\u001b[39moptimize(objective, n_trials\u001b[38;5;241m=\u001b[39m\u001b[38;5;241m10\u001b[39m)\n\u001b[0;32m    151\u001b[0m \u001b[38;5;66;03m# ✅ Print Best Parameters\u001b[39;00m\n\u001b[1;32m--> 152\u001b[0m \u001b[38;5;28mprint\u001b[39m(\u001b[38;5;124m\"\u001b[39m\u001b[38;5;124m✅ Best Hyperparameters:\u001b[39m\u001b[38;5;124m\"\u001b[39m, \u001b[43mstudy\u001b[49m\u001b[38;5;241;43m.\u001b[39;49m\u001b[43mbest_params\u001b[49m)\n\u001b[0;32m    154\u001b[0m \u001b[38;5;66;03m# ✅ End MLflow Run\u001b[39;00m\n\u001b[0;32m    155\u001b[0m mlflow\u001b[38;5;241m.\u001b[39mend_run()\n",
      "File \u001b[1;32mc:\\Users\\Chinmay Nagesh\\AppData\\Local\\Programs\\Python\\Python311\\Lib\\site-packages\\optuna\\study\\study.py:119\u001b[0m, in \u001b[0;36mStudy.best_params\u001b[1;34m(self)\u001b[0m\n\u001b[0;32m    107\u001b[0m \u001b[38;5;129m@property\u001b[39m\n\u001b[0;32m    108\u001b[0m \u001b[38;5;28;01mdef\u001b[39;00m \u001b[38;5;21mbest_params\u001b[39m(\u001b[38;5;28mself\u001b[39m) \u001b[38;5;241m-\u001b[39m\u001b[38;5;241m>\u001b[39m \u001b[38;5;28mdict\u001b[39m[\u001b[38;5;28mstr\u001b[39m, Any]:\n\u001b[0;32m    109\u001b[0m \u001b[38;5;250m    \u001b[39m\u001b[38;5;124;03m\"\"\"Return parameters of the best trial in the study.\u001b[39;00m\n\u001b[0;32m    110\u001b[0m \n\u001b[0;32m    111\u001b[0m \u001b[38;5;124;03m    .. note::\u001b[39;00m\n\u001b[1;32m   (...)\u001b[0m\n\u001b[0;32m    116\u001b[0m \n\u001b[0;32m    117\u001b[0m \u001b[38;5;124;03m    \"\"\"\u001b[39;00m\n\u001b[1;32m--> 119\u001b[0m     \u001b[38;5;28;01mreturn\u001b[39;00m \u001b[38;5;28;43mself\u001b[39;49m\u001b[38;5;241;43m.\u001b[39;49m\u001b[43mbest_trial\u001b[49m\u001b[38;5;241m.\u001b[39mparams\n",
      "File \u001b[1;32mc:\\Users\\Chinmay Nagesh\\AppData\\Local\\Programs\\Python\\Python311\\Lib\\site-packages\\optuna\\study\\study.py:162\u001b[0m, in \u001b[0;36mStudy.best_trial\u001b[1;34m(self)\u001b[0m\n\u001b[0;32m    156\u001b[0m \u001b[38;5;28;01mif\u001b[39;00m \u001b[38;5;28mself\u001b[39m\u001b[38;5;241m.\u001b[39m_is_multi_objective():\n\u001b[0;32m    157\u001b[0m     \u001b[38;5;28;01mraise\u001b[39;00m \u001b[38;5;167;01mRuntimeError\u001b[39;00m(\n\u001b[0;32m    158\u001b[0m         \u001b[38;5;124m\"\u001b[39m\u001b[38;5;124mA single best trial cannot be retrieved from a multi-objective study. Consider \u001b[39m\u001b[38;5;124m\"\u001b[39m\n\u001b[0;32m    159\u001b[0m         \u001b[38;5;124m\"\u001b[39m\u001b[38;5;124musing Study.best_trials to retrieve a list containing the best trials.\u001b[39m\u001b[38;5;124m\"\u001b[39m\n\u001b[0;32m    160\u001b[0m     )\n\u001b[1;32m--> 162\u001b[0m best_trial \u001b[38;5;241m=\u001b[39m \u001b[38;5;28;43mself\u001b[39;49m\u001b[38;5;241;43m.\u001b[39;49m\u001b[43m_storage\u001b[49m\u001b[38;5;241;43m.\u001b[39;49m\u001b[43mget_best_trial\u001b[49m\u001b[43m(\u001b[49m\u001b[38;5;28;43mself\u001b[39;49m\u001b[38;5;241;43m.\u001b[39;49m\u001b[43m_study_id\u001b[49m\u001b[43m)\u001b[49m\n\u001b[0;32m    164\u001b[0m \u001b[38;5;66;03m# If the trial with the best value is infeasible, select the best trial from all feasible\u001b[39;00m\n\u001b[0;32m    165\u001b[0m \u001b[38;5;66;03m# trials. Note that the behavior is undefined when constrained optimization without the\u001b[39;00m\n\u001b[0;32m    166\u001b[0m \u001b[38;5;66;03m# violation value in the best-valued trial.\u001b[39;00m\n\u001b[0;32m    167\u001b[0m constraints \u001b[38;5;241m=\u001b[39m best_trial\u001b[38;5;241m.\u001b[39msystem_attrs\u001b[38;5;241m.\u001b[39mget(_CONSTRAINTS_KEY)\n",
      "File \u001b[1;32mc:\\Users\\Chinmay Nagesh\\AppData\\Local\\Programs\\Python\\Python311\\Lib\\site-packages\\optuna\\storages\\_in_memory.py:249\u001b[0m, in \u001b[0;36mInMemoryStorage.get_best_trial\u001b[1;34m(self, study_id)\u001b[0m\n\u001b[0;32m    246\u001b[0m best_trial_id \u001b[38;5;241m=\u001b[39m \u001b[38;5;28mself\u001b[39m\u001b[38;5;241m.\u001b[39m_studies[study_id]\u001b[38;5;241m.\u001b[39mbest_trial_id\n\u001b[0;32m    248\u001b[0m \u001b[38;5;28;01mif\u001b[39;00m best_trial_id \u001b[38;5;129;01mis\u001b[39;00m \u001b[38;5;28;01mNone\u001b[39;00m:\n\u001b[1;32m--> 249\u001b[0m     \u001b[38;5;28;01mraise\u001b[39;00m \u001b[38;5;167;01mValueError\u001b[39;00m(\u001b[38;5;124m\"\u001b[39m\u001b[38;5;124mNo trials are completed yet.\u001b[39m\u001b[38;5;124m\"\u001b[39m)\n\u001b[0;32m    250\u001b[0m \u001b[38;5;28;01melif\u001b[39;00m \u001b[38;5;28mlen\u001b[39m(\u001b[38;5;28mself\u001b[39m\u001b[38;5;241m.\u001b[39m_studies[study_id]\u001b[38;5;241m.\u001b[39mdirections) \u001b[38;5;241m>\u001b[39m \u001b[38;5;241m1\u001b[39m:\n\u001b[0;32m    251\u001b[0m     \u001b[38;5;28;01mraise\u001b[39;00m \u001b[38;5;167;01mRuntimeError\u001b[39;00m(\n\u001b[0;32m    252\u001b[0m         \u001b[38;5;124m\"\u001b[39m\u001b[38;5;124mBest trial can be obtained only for single-objective optimization.\u001b[39m\u001b[38;5;124m\"\u001b[39m\n\u001b[0;32m    253\u001b[0m     )\n",
      "\u001b[1;31mValueError\u001b[0m: No trials are completed yet."
     ]
    }
   ],
   "source": [
    "import mlflow\n",
    "import mlflow.pytorch\n",
    "import torch\n",
    "import yaml\n",
    "from ultralytics import YOLO  # YOLOv8 is included in the ultralytics package\n",
    "import os\n",
    "import shutil\n",
    "import wandb\n",
    "import optuna\n",
    "from sklearn.model_selection import KFold\n",
    "import numpy as np\n",
    "\n",
    "wandb.login()\n",
    "\n",
    "# os.environ[\"MLFLOW_TRACKING_USERNAME\"] = \"nandhinirajasekaran-se\"\n",
    "# os.environ[\"MLFLOW_TRACKING_PASSWORD\"] = \"e0da9cc45afdd51fa62069d891bd56429c52b2b4\"\n",
    "\n",
    "# ✅ Set up MLflow tracking\n",
    "project ='YOLOv5 Training'\n",
    "mlflow.set_tracking_uri(\"https://dagshub.com/chinmay-nagesh/SYDE770-dagshub.mlflow\")\n",
    "mlflow.set_experiment(project)\n",
    "\n",
    "def objective(trial):\n",
    "    \"\"\"Objective function for Optuna Hyperparameter Optimization\"\"\"\n",
    "    \n",
    "    experiment = \"experiment_\" + str(trial.number)\n",
    "    \n",
    "    # ✅ Suggest values for hyperparameters\n",
    "    epochs = trial.suggest_int(\"epochs\", 10, 50, step=1)\n",
    "    batch_size = trial.suggest_int(\"batch_size\", 32, 128, step=32)\n",
    "    imgsz = trial.suggest_int(\"imgsz\", 500, 800, step=32)\n",
    "    lr0 = trial.suggest_float(\"lr0\", 1e-5, 1e-3, log=True)  # Updated to suggest_float\n",
    "    momentum = trial.suggest_float(\"momentum\", 0.85, 0.95)  # Updated to suggest_float\n",
    "    weight_decay = trial.suggest_float(\"weight_decay\", 1e-5, 1e-3, log=True)  # Updated to suggest_float\n",
    "    freeze_layers = trial.suggest_int(\"freeze_layers\", 10, 20)\n",
    "    \n",
    "    # ✅ Define model path and dataset path\n",
    "    model_path = \"yolov8n.pt\"  # Use YOLOv8 Nano as the base model\n",
    "    dataset_yaml = \"C:/Users/Chinmay Nagesh/Desktop/Yolo/SYDE770/Normal_cups/yolo_dataset/dataset.yaml\"\n",
    "    \n",
    "    # ✅ Check for GPU availability\n",
    "    device = \"cuda\" if torch.cuda.is_available() else \"cpu\"\n",
    "    print(f\"Using device: {device}\")\n",
    "    \n",
    "    # ✅ Start MLflow Experiment\n",
    "    try:\n",
    "        with mlflow.start_run():\n",
    "            run_id = mlflow.active_run().info.run_id\n",
    "            print(\"Logged model with run ID:\", run_id)\n",
    "            \n",
    "            # ✅ Initialize W&B run\n",
    "            wandb.init(\n",
    "                project=project,\n",
    "                name=experiment,\n",
    "                config={\n",
    "                    \"epochs\": epochs,\n",
    "                    \"batch_size\": batch_size,\n",
    "                    \"img_size\": imgsz,\n",
    "                    \"model\": model_path,\n",
    "                    \"momentum\": momentum,\n",
    "                    \"lr0\": lr0,\n",
    "                    \"weight_decay\": weight_decay,\n",
    "                    \"freeze_layers\": freeze_layers,\n",
    "                    \"dataset\": dataset_yaml,\n",
    "                    \"device\": device\n",
    "                }\n",
    "            )\n",
    "            \n",
    "            # ✅ Load YOLOv8 Model\n",
    "            model = YOLO(model_path)\n",
    "            \n",
    "            # ✅ Load dataset YAML\n",
    "            with open(dataset_yaml, 'r') as f:\n",
    "                dataset_config = yaml.safe_load(f)\n",
    "            num_classes = dataset_config.get('nc', None)\n",
    "            \n",
    "            if num_classes is None:\n",
    "                raise ValueError(\"Error: Number of classes (nc) not found in dataset YAML.\")\n",
    "            \n",
    "            # ✅ k-Fold Cross Validation\n",
    "            kfold = KFold(n_splits=5, shuffle=True, random_state=42)\n",
    "            fold_results = []\n",
    "            \n",
    "            for fold, (train_idx, val_idx) in enumerate(kfold.split(np.arange(100))):  # Assuming 100 samples for simplicity\n",
    "                print(f\"Fold {fold + 1}\")\n",
    "                \n",
    "                # ✅ Train model\n",
    "                results = model.train(\n",
    "                    data=dataset_yaml,\n",
    "                    epochs=epochs,\n",
    "                    batch=batch_size,\n",
    "                    imgsz=imgsz,\n",
    "                    lr0=lr0,\n",
    "                    momentum=momentum,\n",
    "                    weight_decay=weight_decay,\n",
    "                    freeze=freeze_layers,\n",
    "                    project=project,\n",
    "                    name=f\"{experiment}_fold{fold + 1}\",\n",
    "                    hsv_h=0.0, hsv_s=0.0, hsv_v=0.0,\n",
    "                    fliplr=0.5, flipud=0.0, \n",
    "                    mosaic=1.0, mixup=1.0, copy_paste=0.0,\n",
    "                    scale=0.5, translate=0.1, shear=0.0, perspective=0.0,\n",
    "                    dropout=0.2,  # Adding dropout for regularization\n",
    "                    device=device  # Ensure training happens on the specified device\n",
    "                )\n",
    "                \n",
    "                # ✅ Log Metrics\n",
    "                metrics = results.results_dict  # YOLOv8 stores metrics in results_dict\n",
    "                mAP50 = metrics.get(\"metrics/mAP50(B)\", 0)\n",
    "                mAP5095 = metrics.get(\"metrics/mAP50-95(B)\", 0)\n",
    "                precision = metrics.get(\"metrics/precision(B)\", 0)\n",
    "                recall = metrics.get(\"metrics/recall(B)\", 0)\n",
    "                \n",
    "                mlflow.log_metric(f\"fold{fold + 1}_mAP50-95\", mAP5095)\n",
    "                mlflow.log_metric(f\"fold{fold + 1}_mAP50\", mAP50)\n",
    "                mlflow.log_metric(f\"fold{fold + 1}_precision\", precision)\n",
    "                mlflow.log_metric(f\"fold{fold + 1}_recall\", recall)\n",
    "                \n",
    "                wandb.log({f\"fold{fold + 1}_mAP50-95\": mAP5095, f\"fold{fold + 1}_mAP50\": mAP50, f\"fold{fold + 1}_precision\": precision, f\"fold{fold + 1}_recall\": recall})\n",
    "                \n",
    "                fold_results.append(mAP5095)\n",
    "            \n",
    "            # ✅ Calculate average metrics across folds\n",
    "            avg_mAP5095 = np.mean(fold_results)\n",
    "            mlflow.log_metric(\"avg_mAP50-95\", avg_mAP5095)\n",
    "            wandb.log({\"avg_mAP50-95\": avg_mAP5095})\n",
    "            \n",
    "            # ✅ Save Best Model Checkpoint\n",
    "            model_save_path = os.path.join(project, experiment, \"weights\")\n",
    "            best_model_path = os.path.join(model_save_path, \"best.pt\")\n",
    "            \n",
    "            if os.path.exists(best_model_path):\n",
    "                torch.save(model.model.state_dict(), \"best.pt\")\n",
    "                mlflow.log_artifact(best_model_path, artifact_path=experiment)\n",
    "                wandb.save(best_model_path)\n",
    "            else:\n",
    "                print(\"⚠ Warning: Best model file not found for logging.\")\n",
    "            \n",
    "            print(f\"✅ Trial {trial.number} complete: avg_mAP50-95 = {avg_mAP5095}\")\n",
    "        \n",
    "            return avg_mAP5095  # Ensure return statement is inside with block\n",
    "    \n",
    "    except Exception as e:\n",
    "        print(\"⚠ MLflow API Error:\", e)\n",
    "        return None  # Ensure function always returns a value\n",
    "\n",
    "# ✅ Run Optuna Optimization\n",
    "study = optuna.create_study(direction=\"maximize\")\n",
    "study.optimize(objective, n_trials=10)\n",
    "\n",
    "# ✅ Print Best Parameters\n",
    "print(\"✅ Best Hyperparameters:\", study.best_params)\n",
    "\n",
    "# ✅ End MLflow Run\n",
    "mlflow.end_run()\n",
    "wandb.finish()"
   ]
  }
 ],
 "metadata": {
  "kernelspec": {
   "display_name": "Python 3",
   "language": "python",
   "name": "python3"
  },
  "language_info": {
   "codemirror_mode": {
    "name": "ipython",
    "version": 3
   },
   "file_extension": ".py",
   "mimetype": "text/x-python",
   "name": "python",
   "nbconvert_exporter": "python",
   "pygments_lexer": "ipython3",
   "version": "3.11.9"
  }
 },
 "nbformat": 4,
 "nbformat_minor": 2
}
